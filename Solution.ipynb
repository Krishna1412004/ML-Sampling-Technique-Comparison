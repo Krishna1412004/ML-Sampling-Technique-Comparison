{
  "nbformat": 4,
  "nbformat_minor": 0,
  "metadata": {
    "colab": {
      "provenance": [],
      "authorship_tag": "ABX9TyNvm5RZSoJK/0oSszxTtx60",
      "include_colab_link": true
    },
    "kernelspec": {
      "name": "python3",
      "display_name": "Python 3"
    },
    "language_info": {
      "name": "python"
    }
  },
  "cells": [
    {
      "cell_type": "markdown",
      "metadata": {
        "id": "view-in-github",
        "colab_type": "text"
      },
      "source": [
        "<a href=\"https://colab.research.google.com/github/Krishna1412004/ML-Sampling-Technique-Comparison/blob/main/Solution.ipynb\" target=\"_parent\"><img src=\"https://colab.research.google.com/assets/colab-badge.svg\" alt=\"Open In Colab\"/></a>"
      ]
    },
    {
      "cell_type": "code",
      "execution_count": 36,
      "metadata": {
        "id": "XNt61rtExadq"
      },
      "outputs": [],
      "source": [
        "import pandas as pd\n",
        "import numpy as np\n",
        "\n",
        "url = \"https://github.com/AnjulaMehto/Sampling_Assignment/raw/main/Creditcard_data.csv\"\n",
        "df = pd.read_csv(url)\n"
      ]
    },
    {
      "cell_type": "code",
      "source": [
        "from imblearn.over_sampling import SMOTE\n",
        "from collections import Counter\n",
        "\n",
        "print(df.columns)\n",
        "\n",
        "\n",
        "X = df.drop('Class', axis=1)\n",
        "y = df['Class']\n",
        "\n",
        "smote = SMOTE()\n",
        "X_balanced, y_balanced = smote.fit_resample(X, y)\n",
        "balanced_df = pd.concat([X_balanced, y_balanced], axis=1)\n",
        "print(f\"Class distribution after SMOTE: {Counter(y_balanced)}\")\n"
      ],
      "metadata": {
        "colab": {
          "base_uri": "https://localhost:8080/"
        },
        "id": "UOGYOWoox82j",
        "outputId": "9e9e526c-eafa-4cf0-e670-42ab180988e9"
      },
      "execution_count": 37,
      "outputs": [
        {
          "output_type": "stream",
          "name": "stdout",
          "text": [
            "Index(['Time', 'V1', 'V2', 'V3', 'V4', 'V5', 'V6', 'V7', 'V8', 'V9', 'V10',\n",
            "       'V11', 'V12', 'V13', 'V14', 'V15', 'V16', 'V17', 'V18', 'V19', 'V20',\n",
            "       'V21', 'V22', 'V23', 'V24', 'V25', 'V26', 'V27', 'V28', 'Amount',\n",
            "       'Class'],\n",
            "      dtype='object')\n",
            "Class distribution after SMOTE: Counter({0: 763, 1: 763})\n"
          ]
        }
      ]
    },
    {
      "cell_type": "code",
      "source": [
        "import matplotlib.pyplot as plt\n",
        "\n",
        "plt.bar(['Class 0', 'Class 1'], [Counter(y_balanced)[0], Counter(y_balanced)[1]], color=['blue', 'orange'])\n",
        "plt.title('Class Distribution After SMOTE')\n",
        "plt.ylabel('Count')\n",
        "plt.show()\n"
      ],
      "metadata": {
        "colab": {
          "base_uri": "https://localhost:8080/",
          "height": 452
        },
        "id": "XIcW_3Mh0-t_",
        "outputId": "100fb6b8-670f-49dc-afc5-11b92c18a739"
      },
      "execution_count": 38,
      "outputs": [
        {
          "output_type": "display_data",
          "data": {
            "text/plain": [
              "<Figure size 640x480 with 1 Axes>"
            ],
            "image/png": "[encoded data removed]"
          },
          "metadata": {}
        }
      ]
    },
    {
      "cell_type": "code",
      "source": [
        "sample_size_srs = int(len(X_balanced) * 0.1)\n",
        "srs_sample = X_balanced.sample(n=sample_size_srs, random_state=42)\n",
        "srs_target = y_balanced.iloc[srs_sample.index]\n",
        "\n",
        "print(f\"Simple Random Sampling: {srs_sample.shape}\")\n"
      ],
      "metadata": {
        "colab": {
          "base_uri": "https://localhost:8080/"
        },
        "id": "363uEm0N51lI",
        "outputId": "f9262ef7-59e7-47f4-fcef-fba17674b980"
      },
      "execution_count": 39,
      "outputs": [
        {
          "output_type": "stream",
          "name": "stdout",
          "text": [
            "Simple Random Sampling: (152, 30)\n"
          ]
        }
      ]
    },
    {
      "cell_type": "code",
      "source": [
        "\n",
        "interval = 10\n",
        "indices = list(range(0, len(X_balanced), interval))\n",
        "systematic_sample = X_balanced.iloc[indices]\n",
        "systematic_target = y_balanced.iloc[indices]\n",
        "\n",
        "print(f\"Systematic Sampling: {systematic_sample.shape}\")\n"
      ],
      "metadata": {
        "colab": {
          "base_uri": "https://localhost:8080/"
        },
        "id": "e1g14t7o6MLB",
        "outputId": "aec87ea4-45ac-4575-8438-246149afaa56"
      },
      "execution_count": 40,
      "outputs": [
        {
          "output_type": "stream",
          "name": "stdout",
          "text": [
            "Systematic Sampling: (153, 30)\n"
          ]
        }
      ]
    },
    {
      "cell_type": "code",
      "source": [
        "from sklearn.model_selection import StratifiedShuffleSplit\n",
        "\n",
        "stratified_sampler = StratifiedShuffleSplit(n_splits=1, test_size=0.1, random_state=42)\n",
        "for train_index, test_index in stratified_sampler.split(X_balanced, y_balanced):\n",
        "    stratified_sample = X_balanced.iloc[test_index]\n",
        "    stratified_target = y_balanced.iloc[test_index]\n",
        "\n",
        "print(f\"Stratified Sampling: {stratified_sample.shape}\")\n"
      ],
      "metadata": {
        "colab": {
          "base_uri": "https://localhost:8080/"
        },
        "id": "raZsu0o66Vlh",
        "outputId": "ce885488-92c7-495f-e18c-13a1b98aae29"
      },
      "execution_count": 41,
      "outputs": [
        {
          "output_type": "stream",
          "name": "stdout",
          "text": [
            "Stratified Sampling: (153, 30)\n"
          ]
        }
      ]
    },
    {
      "cell_type": "code",
      "source": [
        "\n",
        "clusters = np.array_split(X_balanced, 5)\n",
        "random_cluster = np.random.choice(len(clusters))\n",
        "cluster_sample = clusters[random_cluster]\n",
        "cluster_target = y_balanced.iloc[cluster_sample.index]\n",
        "\n",
        "print(f\"Cluster Sampling: {cluster_sample.shape}\")\n"
      ],
      "metadata": {
        "colab": {
          "base_uri": "https://localhost:8080/"
        },
        "id": "jMRAh-Sl6yV-",
        "outputId": "ce7de660-b9bd-48da-e597-315206ff69ae"
      },
      "execution_count": 42,
      "outputs": [
        {
          "output_type": "stream",
          "name": "stdout",
          "text": [
            "Cluster Sampling: (305, 30)\n"
          ]
        },
        {
          "output_type": "stream",
          "name": "stderr",
          "text": [
            "/usr/local/lib/python3.11/dist-packages/numpy/core/fromnumeric.py:59: FutureWarning: 'DataFrame.swapaxes' is deprecated and will be removed in a future version. Please use 'DataFrame.transpose' instead.\n",
            "  return bound(*args, **kwds)\n"
          ]
        }
      ]
    },
    {
      "cell_type": "code",
      "source": [
        "n_samples = len(X_balanced)\n",
        "bootstrap_sample_indices = np.random.choice(n_samples, size=n_samples, replace=True)\n",
        "bootstrap_sample = X_balanced.iloc[bootstrap_sample_indices]\n",
        "bootstrap_target = y_balanced.iloc[bootstrap_sample_indices]\n",
        "\n",
        "print(f\"Bootstrap Sampling: {bootstrap_sample.shape}\")\n"
      ],
      "metadata": {
        "colab": {
          "base_uri": "https://localhost:8080/"
        },
        "id": "LdXJQb97600U",
        "outputId": "88522e10-731b-49a3-e078-42f47a18b6ee"
      },
      "execution_count": 43,
      "outputs": [
        {
          "output_type": "stream",
          "name": "stdout",
          "text": [
            "Bootstrap Sampling: (1526, 30)\n"
          ]
        }
      ]
    },
    {
      "cell_type": "code",
      "source": [],
      "metadata": {
        "id": "3IAQ-fXQ_N9v"
      },
      "execution_count": 43,
      "outputs": []
    },
    {
      "cell_type": "code",
      "source": [
        "from sklearn.model_selection import train_test_split\n",
        "from sklearn.metrics import accuracy_score, precision_score, recall_score, f1_score, roc_auc_score\n",
        "from sklearn.linear_model import LogisticRegression\n",
        "from sklearn.ensemble import RandomForestClassifier\n",
        "from sklearn.svm import SVC\n",
        "from sklearn.tree import DecisionTreeClassifier\n",
        "from sklearn.neighbors import KNeighborsClassifier\n",
        "from sklearn.utils import resample\n",
        "import numpy as np\n",
        "\n",
        "def evaluate_models(X, y):\n",
        "    models = {\n",
        "        'Logistic Regression': LogisticRegression(),\n",
        "        'Random Forest': RandomForestClassifier(),\n",
        "        'SVM': SVC(probability=True),\n",
        "        'Decision Tree': DecisionTreeClassifier(),\n",
        "        'K-Nearest Neighbors': KNeighborsClassifier()\n",
        "    }\n",
        "\n",
        "    sampling_methods = ['Random Sampling', 'Systematic Sampling', 'Stratified Sampling', 'Cluster Sampling', 'Bootstrap Sampling']\n",
        "\n",
        "    results = {}\n",
        "\n",
        "    for sampling_method in sampling_methods:\n",
        "        results[sampling_method] = {}\n",
        "\n",
        "        if sampling_method == 'Random Sampling':\n",
        "            X_sample, y_sample = resample(X, y, random_state=42)\n",
        "\n",
        "        elif sampling_method == 'Systematic Sampling':\n",
        "            step = len(X) // len(y)\n",
        "            X_sample, y_sample = X[::step], y[::step]\n",
        "\n",
        "        elif sampling_method == 'Stratified Sampling':\n",
        "            X_sample, y_sample = resample(X, y, stratify=y, random_state=42)\n",
        "\n",
        "        elif sampling_method == 'Cluster Sampling':\n",
        "            cluster_size = len(X) // 2\n",
        "            X_sample, y_sample = X[:cluster_size], y[:cluster_size]\n",
        "\n",
        "        elif sampling_method == 'Bootstrap Sampling':\n",
        "            X_sample, y_sample = resample(X, y, random_state=42)\n",
        "\n",
        "        for model_name, model in models.items():\n",
        "            model.fit(X_sample, y_sample)\n",
        "            y_pred = model.predict(X_sample)\n",
        "\n",
        "            accuracy = accuracy_score(y_sample, y_pred)\n",
        "            precision = precision_score(y_sample, y_pred, average='binary', zero_division=0)\n",
        "            recall = recall_score(y_sample, y_pred, average='binary', zero_division=0)\n",
        "            f1 = f1_score(y_sample, y_pred, average='binary', zero_division=0)\n",
        "            roc_auc = roc_auc_score(y_sample, model.predict_proba(X_sample)[:, 1]) if hasattr(model, \"predict_proba\") else 0.5  # For models like SVM and others\n",
        "\n",
        "            results[sampling_method][model_name] = {\n",
        "                'Accuracy': accuracy,\n",
        "                'Precision': precision,\n",
        "                'Recall': recall,\n",
        "                'F1-Score': f1,\n",
        "                'ROC-AUC': roc_auc\n",
        "            }\n",
        "\n",
        "    return results\n",
        "\n",
        "results = evaluate_models(X, y)\n",
        "\n",
        "for sampling_method, models_results in results.items():\n",
        "    print(f\"\\nEvaluating models on {sampling_method} data...\\n\")\n",
        "    for model_name, metrics in models_results.items():\n",
        "        print(f\"- {model_name} on {sampling_method}:\")\n",
        "        print(f\"  * Accuracy: {metrics['Accuracy']:.4f}\")\n",
        "        print(f\"  * Precision: {metrics['Precision']:.4f}\")\n",
        "        print(f\"  * Recall: {metrics['Recall']:.4f}\")\n",
        "        print(f\"  * F1-Score: {metrics['F1-Score']:.4f}\")\n",
        "        print(f\"  * ROC-AUC: {metrics['ROC-AUC']:.4f}\")\n",
        "\n",
        "model_accuracies = {sampling_method: {model_name: metrics['Accuracy'] for model_name, metrics in models_results.items()} for sampling_method, models_results in results.items()}\n",
        "print(\"\\nModel accuracies for each sampling method:\")\n",
        "for sampling_method, accuracies in model_accuracies.items():\n",
        "    print(f\"\\n- {sampling_method}:\")\n",
        "    for model_name, accuracy in accuracies.items():\n",
        "        print(f\"  * {model_name}: {accuracy:.4f}\")\n"
      ],
      "metadata": {
        "colab": {
          "base_uri": "https://localhost:8080/"
        },
        "id": "9Z9KEvlFRVYY",
        "outputId": "1ef5c86d-0efe-4018-9f9b-9968853a0215"
      },
      "execution_count": 44,
      "outputs": [
        {
          "output_type": "stream",
          "name": "stderr",
          "text": [
            "/usr/local/lib/python3.11/dist-packages/sklearn/linear_model/_logistic.py:465: ConvergenceWarning: lbfgs failed to converge (status=1):\n",
            "STOP: TOTAL NO. of ITERATIONS REACHED LIMIT.\n",
            "\n",
            "Increase the number of iterations (max_iter) or scale the data as shown in:\n",
            "    https://scikit-learn.org/stable/modules/preprocessing.html\n",
            "Please also refer to the documentation for alternative solver options:\n",
            "    https://scikit-learn.org/stable/modules/linear_model.html#logistic-regression\n",
            "  n_iter_i = _check_optimize_result(\n",
            "/usr/local/lib/python3.11/dist-packages/sklearn/linear_model/_logistic.py:465: ConvergenceWarning: lbfgs failed to converge (status=1):\n",
            "STOP: TOTAL NO. of ITERATIONS REACHED LIMIT.\n",
            "\n",
            "Increase the number of iterations (max_iter) or scale the data as shown in:\n",
            "    https://scikit-learn.org/stable/modules/preprocessing.html\n",
            "Please also refer to the documentation for alternative solver options:\n",
            "    https://scikit-learn.org/stable/modules/linear_model.html#logistic-regression\n",
            "  n_iter_i = _check_optimize_result(\n",
            "/usr/local/lib/python3.11/dist-packages/sklearn/linear_model/_logistic.py:465: ConvergenceWarning: lbfgs failed to converge (status=1):\n",
            "STOP: TOTAL NO. of ITERATIONS REACHED LIMIT.\n",
            "\n",
            "Increase the number of iterations (max_iter) or scale the data as shown in:\n",
            "    https://scikit-learn.org/stable/modules/preprocessing.html\n",
            "Please also refer to the documentation for alternative solver options:\n",
            "    https://scikit-learn.org/stable/modules/linear_model.html#logistic-regression\n",
            "  n_iter_i = _check_optimize_result(\n",
            "/usr/local/lib/python3.11/dist-packages/sklearn/linear_model/_logistic.py:465: ConvergenceWarning: lbfgs failed to converge (status=1):\n",
            "STOP: TOTAL NO. of ITERATIONS REACHED LIMIT.\n",
            "\n",
            "Increase the number of iterations (max_iter) or scale the data as shown in:\n",
            "    https://scikit-learn.org/stable/modules/preprocessing.html\n",
            "Please also refer to the documentation for alternative solver options:\n",
            "    https://scikit-learn.org/stable/modules/linear_model.html#logistic-regression\n",
            "  n_iter_i = _check_optimize_result(\n"
          ]
        },
        {
          "output_type": "stream",
          "name": "stdout",
          "text": [
            "\n",
            "Evaluating models on Random Sampling data...\n",
            "\n",
            "- Logistic Regression on Random Sampling:\n",
            "  * Accuracy: 0.9832\n",
            "  * Precision: 0.0000\n",
            "  * Recall: 0.0000\n",
            "  * F1-Score: 0.0000\n",
            "  * ROC-AUC: 0.9053\n",
            "- Random Forest on Random Sampling:\n",
            "  * Accuracy: 1.0000\n",
            "  * Precision: 1.0000\n",
            "  * Recall: 1.0000\n",
            "  * F1-Score: 1.0000\n",
            "  * ROC-AUC: 1.0000\n",
            "- SVM on Random Sampling:\n",
            "  * Accuracy: 0.9845\n",
            "  * Precision: 0.0000\n",
            "  * Recall: 0.0000\n",
            "  * F1-Score: 0.0000\n",
            "  * ROC-AUC: 0.9917\n",
            "- Decision Tree on Random Sampling:\n",
            "  * Accuracy: 1.0000\n",
            "  * Precision: 1.0000\n",
            "  * Recall: 1.0000\n",
            "  * F1-Score: 1.0000\n",
            "  * ROC-AUC: 1.0000\n",
            "- K-Nearest Neighbors on Random Sampling:\n",
            "  * Accuracy: 0.9896\n",
            "  * Precision: 0.7500\n",
            "  * Recall: 0.5000\n",
            "  * F1-Score: 0.6000\n",
            "  * ROC-AUC: 0.9957\n",
            "\n",
            "Evaluating models on Systematic Sampling data...\n",
            "\n",
            "- Logistic Regression on Systematic Sampling:\n",
            "  * Accuracy: 0.9883\n",
            "  * Precision: 0.5000\n",
            "  * Recall: 0.1111\n",
            "  * F1-Score: 0.1818\n",
            "  * ROC-AUC: 0.8871\n",
            "- Random Forest on Systematic Sampling:\n",
            "  * Accuracy: 1.0000\n",
            "  * Precision: 1.0000\n",
            "  * Recall: 1.0000\n",
            "  * F1-Score: 1.0000\n",
            "  * ROC-AUC: 1.0000\n",
            "- SVM on Systematic Sampling:\n",
            "  * Accuracy: 0.9883\n",
            "  * Precision: 0.0000\n",
            "  * Recall: 0.0000\n",
            "  * F1-Score: 0.0000\n",
            "  * ROC-AUC: 0.9062\n",
            "- Decision Tree on Systematic Sampling:\n",
            "  * Accuracy: 1.0000\n",
            "  * Precision: 1.0000\n",
            "  * Recall: 1.0000\n",
            "  * F1-Score: 1.0000\n",
            "  * ROC-AUC: 1.0000\n",
            "- K-Nearest Neighbors on Systematic Sampling:\n",
            "  * Accuracy: 0.9883\n",
            "  * Precision: 0.0000\n",
            "  * Recall: 0.0000\n",
            "  * F1-Score: 0.0000\n",
            "  * ROC-AUC: 0.9830\n",
            "\n",
            "Evaluating models on Stratified Sampling data...\n",
            "\n",
            "- Logistic Regression on Stratified Sampling:\n",
            "  * Accuracy: 0.9883\n",
            "  * Precision: 0.0000\n",
            "  * Recall: 0.0000\n",
            "  * F1-Score: 0.0000\n",
            "  * ROC-AUC: 0.8957\n",
            "- Random Forest on Stratified Sampling:\n",
            "  * Accuracy: 1.0000\n",
            "  * Precision: 1.0000\n",
            "  * Recall: 1.0000\n",
            "  * F1-Score: 1.0000\n",
            "  * ROC-AUC: 1.0000\n",
            "- SVM on Stratified Sampling:\n",
            "  * Accuracy: 0.9883\n",
            "  * Precision: 0.0000\n",
            "  * Recall: 0.0000\n",
            "  * F1-Score: 0.0000\n",
            "  * ROC-AUC: 0.8563\n",
            "- Decision Tree on Stratified Sampling:\n",
            "  * Accuracy: 1.0000\n",
            "  * Precision: 1.0000\n",
            "  * Recall: 1.0000\n",
            "  * F1-Score: 1.0000\n",
            "  * ROC-AUC: 1.0000\n",
            "- K-Nearest Neighbors on Stratified Sampling:\n",
            "  * Accuracy: 0.9922\n",
            "  * Precision: 1.0000\n",
            "  * Recall: 0.3333\n",
            "  * F1-Score: 0.5000\n",
            "  * ROC-AUC: 0.9914\n",
            "\n",
            "Evaluating models on Cluster Sampling data...\n",
            "\n",
            "- Logistic Regression on Cluster Sampling:\n",
            "  * Accuracy: 0.9922\n",
            "  * Precision: 0.0000\n",
            "  * Recall: 0.0000\n",
            "  * F1-Score: 0.0000\n",
            "  * ROC-AUC: 0.9896\n",
            "- Random Forest on Cluster Sampling:\n",
            "  * Accuracy: 1.0000\n",
            "  * Precision: 1.0000\n",
            "  * Recall: 1.0000\n",
            "  * F1-Score: 1.0000\n",
            "  * ROC-AUC: 1.0000\n",
            "- SVM on Cluster Sampling:\n",
            "  * Accuracy: 0.9922\n",
            "  * Precision: 0.0000\n",
            "  * Recall: 0.0000\n",
            "  * F1-Score: 0.0000\n",
            "  * ROC-AUC: 0.0783\n",
            "- Decision Tree on Cluster Sampling:\n",
            "  * Accuracy: 1.0000\n",
            "  * Precision: 1.0000\n",
            "  * Recall: 1.0000\n",
            "  * F1-Score: 1.0000\n",
            "  * ROC-AUC: 1.0000\n",
            "- K-Nearest Neighbors on Cluster Sampling:\n",
            "  * Accuracy: 0.9922\n",
            "  * Precision: 0.0000\n",
            "  * Recall: 0.0000\n",
            "  * F1-Score: 0.0000\n",
            "  * ROC-AUC: 0.9896\n",
            "\n",
            "Evaluating models on Bootstrap Sampling data...\n",
            "\n",
            "- Logistic Regression on Bootstrap Sampling:\n",
            "  * Accuracy: 0.9832\n",
            "  * Precision: 0.0000\n",
            "  * Recall: 0.0000\n",
            "  * F1-Score: 0.0000\n",
            "  * ROC-AUC: 0.9053\n",
            "- Random Forest on Bootstrap Sampling:\n",
            "  * Accuracy: 1.0000\n",
            "  * Precision: 1.0000\n",
            "  * Recall: 1.0000\n",
            "  * F1-Score: 1.0000\n",
            "  * ROC-AUC: 1.0000\n",
            "- SVM on Bootstrap Sampling:\n",
            "  * Accuracy: 0.9845\n",
            "  * Precision: 0.0000\n",
            "  * Recall: 0.0000\n",
            "  * F1-Score: 0.0000\n",
            "  * ROC-AUC: 0.9917\n",
            "- Decision Tree on Bootstrap Sampling:\n",
            "  * Accuracy: 1.0000\n",
            "  * Precision: 1.0000\n",
            "  * Recall: 1.0000\n",
            "  * F1-Score: 1.0000\n",
            "  * ROC-AUC: 1.0000\n",
            "- K-Nearest Neighbors on Bootstrap Sampling:\n",
            "  * Accuracy: 0.9896\n",
            "  * Precision: 0.7500\n",
            "  * Recall: 0.5000\n",
            "  * F1-Score: 0.6000\n",
            "  * ROC-AUC: 0.9957\n",
            "\n",
            "Model accuracies for each sampling method:\n",
            "\n",
            "- Random Sampling:\n",
            "  * Logistic Regression: 0.9832\n",
            "  * Random Forest: 1.0000\n",
            "  * SVM: 0.9845\n",
            "  * Decision Tree: 1.0000\n",
            "  * K-Nearest Neighbors: 0.9896\n",
            "\n",
            "- Systematic Sampling:\n",
            "  * Logistic Regression: 0.9883\n",
            "  * Random Forest: 1.0000\n",
            "  * SVM: 0.9883\n",
            "  * Decision Tree: 1.0000\n",
            "  * K-Nearest Neighbors: 0.9883\n",
            "\n",
            "- Stratified Sampling:\n",
            "  * Logistic Regression: 0.9883\n",
            "  * Random Forest: 1.0000\n",
            "  * SVM: 0.9883\n",
            "  * Decision Tree: 1.0000\n",
            "  * K-Nearest Neighbors: 0.9922\n",
            "\n",
            "- Cluster Sampling:\n",
            "  * Logistic Regression: 0.9922\n",
            "  * Random Forest: 1.0000\n",
            "  * SVM: 0.9922\n",
            "  * Decision Tree: 1.0000\n",
            "  * K-Nearest Neighbors: 0.9922\n",
            "\n",
            "- Bootstrap Sampling:\n",
            "  * Logistic Regression: 0.9832\n",
            "  * Random Forest: 1.0000\n",
            "  * SVM: 0.9845\n",
            "  * Decision Tree: 1.0000\n",
            "  * K-Nearest Neighbors: 0.9896\n"
          ]
        }
      ]
    },
    {
      "cell_type": "code",
      "source": [
        "def find_best_sampling(results):\n",
        "    best_sampling = {}\n",
        "    for model_name in results['Random Sampling'].keys():\n",
        "        best_accuracy = -1\n",
        "        best_sampling_method = \"\"\n",
        "\n",
        "        for sampling_method, models_results in results.items():\n",
        "            accuracy = models_results[model_name]['Accuracy']\n",
        "            if accuracy > best_accuracy:\n",
        "                best_accuracy = accuracy\n",
        "                best_sampling_method = sampling_method\n",
        "\n",
        "        best_sampling[model_name] = (best_sampling_method, best_accuracy)\n",
        "\n",
        "    for model_name, (sampling_method, accuracy) in best_sampling.items():\n",
        "        print(f\"Best sampling technique for {model_name}: {sampling_method} with Accuracy: {accuracy:.4f}\")\n",
        "\n",
        "find_best_sampling(results)\n"
      ],
      "metadata": {
        "colab": {
          "base_uri": "https://localhost:8080/"
        },
        "id": "3eAof45LUgDj",
        "outputId": "ec518205-542f-4592-c15f-0e8252f5be18"
      },
      "execution_count": 45,
      "outputs": [
        {
          "output_type": "stream",
          "name": "stdout",
          "text": [
            "Best sampling technique for Logistic Regression: Cluster Sampling with Accuracy: 0.9922\n",
            "Best sampling technique for Random Forest: Random Sampling with Accuracy: 1.0000\n",
            "Best sampling technique for SVM: Cluster Sampling with Accuracy: 0.9922\n",
            "Best sampling technique for Decision Tree: Random Sampling with Accuracy: 1.0000\n",
            "Best sampling technique for K-Nearest Neighbors: Stratified Sampling with Accuracy: 0.9922\n"
          ]
        }
      ]
    }
  ]
}